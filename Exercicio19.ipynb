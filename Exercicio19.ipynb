{
 "cells": [
  {
   "cell_type": "code",
   "execution_count": 1,
   "metadata": {
    "collapsed": true
   },
   "outputs": [],
   "source": [
    "#comente\n",
    "#Importa as bibliotecas numpy e tensorflow, chamando cada biblioteca com um alias\n",
    "#numpy é uma biblioteca para realização de cálculos, trabalhar com vetores, matrizes e arranjos de forma #comparável ao do matlab\n",
    "#tensorflow é uma biblioteca desenvolvida pelo google para inteligência artificial\n",
    "import numpy as np\n",
    "import tensorflow as tf"
   ]
  },
  {
   "cell_type": "code",
   "execution_count": 2,
   "metadata": {
    "collapsed": true
   },
   "outputs": [],
   "source": [
    "#comente\n",
    "#abre uma variável sess, associando a ela a classe sessão do tensorflow, que encapsula objetos em um ambiente na qual os objetos serão executados.\n",
    "#Instanciação de uma classe Sessão do tensorflow\n",
    "#https://www.tensorflow.org/api_docs/python/tf/constant\n",
    "sess = tf.Session()"
   ]
  },
  {
   "cell_type": "code",
   "execution_count": 3,
   "metadata": {
    "collapsed": true
   },
   "outputs": [],
   "source": [
    "#comente\n",
    "#Declaração de uma função chamada print_tf, cuja função é informar o tipo do parâmetro passado e seu valor, logo em seguida. \n",
    "def print_tf(x):\n",
    "    print(\"TIPO: \\n %s\" % (type(x)))\n",
    "    print(\"Valor: \\n %s\" % (x))"
   ]
  },
  {
   "cell_type": "code",
   "execution_count": 4,
   "metadata": {},
   "outputs": [
    {
     "name": "stdout",
     "output_type": "stream",
     "text": [
      "TIPO: \n",
      " <class 'tensorflow.python.framework.ops.Tensor'>\n",
      "Valor: \n",
      " Tensor(\"Const:0\", shape=(), dtype=string)\n"
     ]
    }
   ],
   "source": [
    "#comente\n",
    "#a variável hello recebe uma função que define uma constante do tensorflow (constante tensor), com o valor informado entre #parentesis; a funcao print_tf foi definida acima vai informar o tipo da variavel hello e seu tipo.\n",
    "hello = tf.constant(\"www.deeplearningbrasil.com.br\")\n",
    "print_tf(hello)"
   ]
  },
  {
   "cell_type": "code",
   "execution_count": 5,
   "metadata": {},
   "outputs": [
    {
     "name": "stdout",
     "output_type": "stream",
     "text": [
      "TIPO: \n",
      " <class 'bytes'>\n",
      "Valor: \n",
      " b'www.deeplearningbrasil.com.br'\n"
     ]
    }
   ],
   "source": [
    "#comente\n",
    "#Run é um método da classe session, cuja função é executar os objetos que foram definidos dentro da seção. Ele serve para rodar as operações existentes e montar os grafos, que é como o tensorflow funciona. Depois essa variável hello_out é impressa com a função definida anteriormente.\n",
    "hello_out = sess.run(hello)\n",
    "print_tf(hello_out)"
   ]
  },
  {
   "cell_type": "code",
   "execution_count": 6,
   "metadata": {},
   "outputs": [
    {
     "name": "stdout",
     "output_type": "stream",
     "text": [
      "TIPO: \n",
      " <class 'tensorflow.python.framework.ops.Tensor'>\n",
      "Valor: \n",
      " Tensor(\"Const_1:0\", shape=(), dtype=float32)\n",
      "TIPO: \n",
      " <class 'tensorflow.python.framework.ops.Tensor'>\n",
      "Valor: \n",
      " Tensor(\"Const_2:0\", shape=(), dtype=float32)\n"
     ]
    }
   ],
   "source": [
    "#comente\n",
    "#variável a define a constante tensorflow com valor 1,5\n",
    "#variavel b é definido com a constante tensorflow com o valor 2,5\n",
    "#A funcao em seguida imprime o tipo e valor das variáveis a e b\n",
    "a = tf.constant(1.5)\n",
    "b = tf.constant(2.5)\n",
    "print_tf(a)\n",
    "print_tf(b)"
   ]
  },
  {
   "cell_type": "code",
   "execution_count": 7,
   "metadata": {},
   "outputs": [
    {
     "name": "stdout",
     "output_type": "stream",
     "text": [
      "TIPO: \n",
      " <class 'numpy.float32'>\n",
      "Valor: \n",
      " 1.5\n",
      "TIPO: \n",
      " <class 'numpy.float32'>\n",
      "Valor: \n",
      " 2.5\n"
     ]
    }
   ],
   "source": [
    "#comente\n",
    "#São realizadas as operações de inicialização dos grafos na qual foi definido para as constantes tensor a e #b, para as variáveis a_out e b_out; depois a função que mostra o tipo das variáveis e valores é executada\n",
    "a_out = sess.run(a)\n",
    "b_out = sess.run(b)\n",
    "print_tf(a_out)\n",
    "print_tf(b_out)"
   ]
  },
  {
   "cell_type": "code",
   "execution_count": 8,
   "metadata": {},
   "outputs": [
    {
     "name": "stdout",
     "output_type": "stream",
     "text": [
      "TIPO: \n",
      " <class 'tensorflow.python.framework.ops.Tensor'>\n",
      "Valor: \n",
      " Tensor(\"Add:0\", shape=(), dtype=float32)\n"
     ]
    }
   ],
   "source": [
    "#comente\n",
    "#Funcao soma do tensorflow na qual é realizada a adição das constantes tensor a e b e o resultado é #colocado na variavel a_plus_b; depois a função definida anteriormente define o tipo e o valor dessa #variavel a_plus_b\n",
    "a_plus_b = tf.add(a, b)\n",
    "print_tf(a_plus_b)"
   ]
  },
  {
   "cell_type": "code",
   "execution_count": 9,
   "metadata": {},
   "outputs": [
    {
     "name": "stdout",
     "output_type": "stream",
     "text": [
      "TIPO: \n",
      " <class 'numpy.float32'>\n",
      "Valor: \n",
      " 4.0\n"
     ]
    }
   ],
   "source": [
    "#comente\n",
    "#Executa as operações do tensor definido a_plus_b, inicializa o grafo dessa variavel a_plus_b, entregando o resultado na variável (a_plus_b_out); novamente é chamada a função print_tf.\n",
    "a_plus_b_out = sess.run(a_plus_b)\n",
    "print_tf(a_plus_b_out)"
   ]
  },
  {
   "cell_type": "code",
   "execution_count": 10,
   "metadata": {},
   "outputs": [
    {
     "name": "stdout",
     "output_type": "stream",
     "text": [
      "TIPO: \n",
      " <class 'numpy.float32'>\n",
      "Valor: \n",
      " 3.75\n"
     ]
    }
   ],
   "source": [
    "#comente\n",
    "#Não existe mais a funcao mul no tensorflow; ela foi substituída por multiply, que deve ser corrigida abaixo.\n",
    "#Executa a multiplicacao das constantes tensor a e b; depois é executado através da constante run; depois a função print_tf é chamada para apresentar tipo e valor da variável a_mul_b_out.\n",
    "a_mul_b = tf.multiply(a, b)\n",
    "a_mul_b_out = sess.run(a_mul_b)\n",
    "print_tf(a_mul_b_out)"
   ]
  },
  {
   "cell_type": "code",
   "execution_count": 11,
   "metadata": {},
   "outputs": [
    {
     "name": "stdout",
     "output_type": "stream",
     "text": [
      "TIPO: \n",
      " <class 'tensorflow.python.ops.variables.Variable'>\n",
      "Valor: \n",
      " <tf.Variable 'Variable:0' shape=(5, 2) dtype=float32_ref>\n"
     ]
    }
   ],
   "source": [
    "#comente\n",
    "#Método para criar uma criar uma variável tensor, só que ela precisa obrigatoriamente ser inicializada com um valor de tensor de qualquer valor, neste caso foi definido que o shape é uma curva gaussiana (curva normal) cujos valores aleatórios serão baseados numa matriz 5 por 2; quanto mais próximo do pico da gaussiana, haverá uma certa distribuição de probabilidades, não encontrada nas extremidades. ; cujo desvio padrão foi definido por stddev = 0,1. \n",
    "weight = tf.Variable(tf.random_normal([5, 2], stddev=0.1))\n",
    "print_tf(weight)"
   ]
  },
  {
   "cell_type": "code",
   "execution_count": 12,
   "metadata": {
    "scrolled": true
   },
   "outputs": [
    {
     "ename": "FailedPreconditionError",
     "evalue": "Attempting to use uninitialized value Variable\n\t [[Node: _retval_Variable_0_0 = _Retval[T=DT_FLOAT, index=0, _device=\"/job:localhost/replica:0/task:0/cpu:0\"](Variable)]]",
     "output_type": "error",
     "traceback": [
      "\u001b[1;31m---------------------------------------------------------------------------\u001b[0m",
      "\u001b[1;31mFailedPreconditionError\u001b[0m                   Traceback (most recent call last)",
      "\u001b[1;32mC:\\ProgramData\\Anaconda2\\envs\\rnp_ufg\\lib\\site-packages\\tensorflow\\python\\client\\session.py\u001b[0m in \u001b[0;36m_do_call\u001b[1;34m(self, fn, *args)\u001b[0m\n\u001b[0;32m   1326\u001b[0m     \u001b[1;32mtry\u001b[0m\u001b[1;33m:\u001b[0m\u001b[1;33m\u001b[0m\u001b[0m\n\u001b[1;32m-> 1327\u001b[1;33m       \u001b[1;32mreturn\u001b[0m \u001b[0mfn\u001b[0m\u001b[1;33m(\u001b[0m\u001b[1;33m*\u001b[0m\u001b[0margs\u001b[0m\u001b[1;33m)\u001b[0m\u001b[1;33m\u001b[0m\u001b[0m\n\u001b[0m\u001b[0;32m   1328\u001b[0m     \u001b[1;32mexcept\u001b[0m \u001b[0merrors\u001b[0m\u001b[1;33m.\u001b[0m\u001b[0mOpError\u001b[0m \u001b[1;32mas\u001b[0m \u001b[0me\u001b[0m\u001b[1;33m:\u001b[0m\u001b[1;33m\u001b[0m\u001b[0m\n",
      "\u001b[1;32mC:\\ProgramData\\Anaconda2\\envs\\rnp_ufg\\lib\\site-packages\\tensorflow\\python\\client\\session.py\u001b[0m in \u001b[0;36m_run_fn\u001b[1;34m(session, feed_dict, fetch_list, target_list, options, run_metadata)\u001b[0m\n\u001b[0;32m   1305\u001b[0m                                    \u001b[0mfeed_dict\u001b[0m\u001b[1;33m,\u001b[0m \u001b[0mfetch_list\u001b[0m\u001b[1;33m,\u001b[0m \u001b[0mtarget_list\u001b[0m\u001b[1;33m,\u001b[0m\u001b[1;33m\u001b[0m\u001b[0m\n\u001b[1;32m-> 1306\u001b[1;33m                                    status, run_metadata)\n\u001b[0m\u001b[0;32m   1307\u001b[0m \u001b[1;33m\u001b[0m\u001b[0m\n",
      "\u001b[1;32mC:\\ProgramData\\Anaconda2\\envs\\rnp_ufg\\lib\\contextlib.py\u001b[0m in \u001b[0;36m__exit__\u001b[1;34m(self, type, value, traceback)\u001b[0m\n\u001b[0;32m     65\u001b[0m             \u001b[1;32mtry\u001b[0m\u001b[1;33m:\u001b[0m\u001b[1;33m\u001b[0m\u001b[0m\n\u001b[1;32m---> 66\u001b[1;33m                 \u001b[0mnext\u001b[0m\u001b[1;33m(\u001b[0m\u001b[0mself\u001b[0m\u001b[1;33m.\u001b[0m\u001b[0mgen\u001b[0m\u001b[1;33m)\u001b[0m\u001b[1;33m\u001b[0m\u001b[0m\n\u001b[0m\u001b[0;32m     67\u001b[0m             \u001b[1;32mexcept\u001b[0m \u001b[0mStopIteration\u001b[0m\u001b[1;33m:\u001b[0m\u001b[1;33m\u001b[0m\u001b[0m\n",
      "\u001b[1;32mC:\\ProgramData\\Anaconda2\\envs\\rnp_ufg\\lib\\site-packages\\tensorflow\\python\\framework\\errors_impl.py\u001b[0m in \u001b[0;36mraise_exception_on_not_ok_status\u001b[1;34m()\u001b[0m\n\u001b[0;32m    465\u001b[0m           \u001b[0mcompat\u001b[0m\u001b[1;33m.\u001b[0m\u001b[0mas_text\u001b[0m\u001b[1;33m(\u001b[0m\u001b[0mpywrap_tensorflow\u001b[0m\u001b[1;33m.\u001b[0m\u001b[0mTF_Message\u001b[0m\u001b[1;33m(\u001b[0m\u001b[0mstatus\u001b[0m\u001b[1;33m)\u001b[0m\u001b[1;33m)\u001b[0m\u001b[1;33m,\u001b[0m\u001b[1;33m\u001b[0m\u001b[0m\n\u001b[1;32m--> 466\u001b[1;33m           pywrap_tensorflow.TF_GetCode(status))\n\u001b[0m\u001b[0;32m    467\u001b[0m   \u001b[1;32mfinally\u001b[0m\u001b[1;33m:\u001b[0m\u001b[1;33m\u001b[0m\u001b[0m\n",
      "\u001b[1;31mFailedPreconditionError\u001b[0m: Attempting to use uninitialized value Variable\n\t [[Node: _retval_Variable_0_0 = _Retval[T=DT_FLOAT, index=0, _device=\"/job:localhost/replica:0/task:0/cpu:0\"](Variable)]]",
      "\nDuring handling of the above exception, another exception occurred:\n",
      "\u001b[1;31mFailedPreconditionError\u001b[0m                   Traceback (most recent call last)",
      "\u001b[1;32m<ipython-input-12-142bf25ca99a>\u001b[0m in \u001b[0;36m<module>\u001b[1;34m()\u001b[0m\n\u001b[0;32m      3\u001b[0m \u001b[1;31m#Faltou a inicialização da variável weight_out, que está sendo feito no próximo conjunto de código\u001b[0m\u001b[1;33m\u001b[0m\u001b[1;33m\u001b[0m\u001b[0m\n\u001b[0;32m      4\u001b[0m \u001b[1;31m#esse trecho foi comentado, para que não haja mais erro.\u001b[0m\u001b[1;33m\u001b[0m\u001b[1;33m\u001b[0m\u001b[0m\n\u001b[1;32m----> 5\u001b[1;33m \u001b[0mweight_out\u001b[0m \u001b[1;33m=\u001b[0m \u001b[0msess\u001b[0m\u001b[1;33m.\u001b[0m\u001b[0mrun\u001b[0m\u001b[1;33m(\u001b[0m\u001b[0mweight\u001b[0m\u001b[1;33m)\u001b[0m\u001b[1;33m\u001b[0m\u001b[0m\n\u001b[0m\u001b[0;32m      6\u001b[0m \u001b[0mprint_tf\u001b[0m\u001b[1;33m(\u001b[0m\u001b[0mweight_out\u001b[0m\u001b[1;33m)\u001b[0m\u001b[1;33m\u001b[0m\u001b[0m\n",
      "\u001b[1;32mC:\\ProgramData\\Anaconda2\\envs\\rnp_ufg\\lib\\site-packages\\tensorflow\\python\\client\\session.py\u001b[0m in \u001b[0;36mrun\u001b[1;34m(self, fetches, feed_dict, options, run_metadata)\u001b[0m\n\u001b[0;32m    893\u001b[0m     \u001b[1;32mtry\u001b[0m\u001b[1;33m:\u001b[0m\u001b[1;33m\u001b[0m\u001b[0m\n\u001b[0;32m    894\u001b[0m       result = self._run(None, fetches, feed_dict, options_ptr,\n\u001b[1;32m--> 895\u001b[1;33m                          run_metadata_ptr)\n\u001b[0m\u001b[0;32m    896\u001b[0m       \u001b[1;32mif\u001b[0m \u001b[0mrun_metadata\u001b[0m\u001b[1;33m:\u001b[0m\u001b[1;33m\u001b[0m\u001b[0m\n\u001b[0;32m    897\u001b[0m         \u001b[0mproto_data\u001b[0m \u001b[1;33m=\u001b[0m \u001b[0mtf_session\u001b[0m\u001b[1;33m.\u001b[0m\u001b[0mTF_GetBuffer\u001b[0m\u001b[1;33m(\u001b[0m\u001b[0mrun_metadata_ptr\u001b[0m\u001b[1;33m)\u001b[0m\u001b[1;33m\u001b[0m\u001b[0m\n",
      "\u001b[1;32mC:\\ProgramData\\Anaconda2\\envs\\rnp_ufg\\lib\\site-packages\\tensorflow\\python\\client\\session.py\u001b[0m in \u001b[0;36m_run\u001b[1;34m(self, handle, fetches, feed_dict, options, run_metadata)\u001b[0m\n\u001b[0;32m   1122\u001b[0m     \u001b[1;32mif\u001b[0m \u001b[0mfinal_fetches\u001b[0m \u001b[1;32mor\u001b[0m \u001b[0mfinal_targets\u001b[0m \u001b[1;32mor\u001b[0m \u001b[1;33m(\u001b[0m\u001b[0mhandle\u001b[0m \u001b[1;32mand\u001b[0m \u001b[0mfeed_dict_tensor\u001b[0m\u001b[1;33m)\u001b[0m\u001b[1;33m:\u001b[0m\u001b[1;33m\u001b[0m\u001b[0m\n\u001b[0;32m   1123\u001b[0m       results = self._do_run(handle, final_targets, final_fetches,\n\u001b[1;32m-> 1124\u001b[1;33m                              feed_dict_tensor, options, run_metadata)\n\u001b[0m\u001b[0;32m   1125\u001b[0m     \u001b[1;32melse\u001b[0m\u001b[1;33m:\u001b[0m\u001b[1;33m\u001b[0m\u001b[0m\n\u001b[0;32m   1126\u001b[0m       \u001b[0mresults\u001b[0m \u001b[1;33m=\u001b[0m \u001b[1;33m[\u001b[0m\u001b[1;33m]\u001b[0m\u001b[1;33m\u001b[0m\u001b[0m\n",
      "\u001b[1;32mC:\\ProgramData\\Anaconda2\\envs\\rnp_ufg\\lib\\site-packages\\tensorflow\\python\\client\\session.py\u001b[0m in \u001b[0;36m_do_run\u001b[1;34m(self, handle, target_list, fetch_list, feed_dict, options, run_metadata)\u001b[0m\n\u001b[0;32m   1319\u001b[0m     \u001b[1;32mif\u001b[0m \u001b[0mhandle\u001b[0m \u001b[1;32mis\u001b[0m \u001b[1;32mNone\u001b[0m\u001b[1;33m:\u001b[0m\u001b[1;33m\u001b[0m\u001b[0m\n\u001b[0;32m   1320\u001b[0m       return self._do_call(_run_fn, self._session, feeds, fetches, targets,\n\u001b[1;32m-> 1321\u001b[1;33m                            options, run_metadata)\n\u001b[0m\u001b[0;32m   1322\u001b[0m     \u001b[1;32melse\u001b[0m\u001b[1;33m:\u001b[0m\u001b[1;33m\u001b[0m\u001b[0m\n\u001b[0;32m   1323\u001b[0m       \u001b[1;32mreturn\u001b[0m \u001b[0mself\u001b[0m\u001b[1;33m.\u001b[0m\u001b[0m_do_call\u001b[0m\u001b[1;33m(\u001b[0m\u001b[0m_prun_fn\u001b[0m\u001b[1;33m,\u001b[0m \u001b[0mself\u001b[0m\u001b[1;33m.\u001b[0m\u001b[0m_session\u001b[0m\u001b[1;33m,\u001b[0m \u001b[0mhandle\u001b[0m\u001b[1;33m,\u001b[0m \u001b[0mfeeds\u001b[0m\u001b[1;33m,\u001b[0m \u001b[0mfetches\u001b[0m\u001b[1;33m)\u001b[0m\u001b[1;33m\u001b[0m\u001b[0m\n",
      "\u001b[1;32mC:\\ProgramData\\Anaconda2\\envs\\rnp_ufg\\lib\\site-packages\\tensorflow\\python\\client\\session.py\u001b[0m in \u001b[0;36m_do_call\u001b[1;34m(self, fn, *args)\u001b[0m\n\u001b[0;32m   1338\u001b[0m         \u001b[1;32mexcept\u001b[0m \u001b[0mKeyError\u001b[0m\u001b[1;33m:\u001b[0m\u001b[1;33m\u001b[0m\u001b[0m\n\u001b[0;32m   1339\u001b[0m           \u001b[1;32mpass\u001b[0m\u001b[1;33m\u001b[0m\u001b[0m\n\u001b[1;32m-> 1340\u001b[1;33m       \u001b[1;32mraise\u001b[0m \u001b[0mtype\u001b[0m\u001b[1;33m(\u001b[0m\u001b[0me\u001b[0m\u001b[1;33m)\u001b[0m\u001b[1;33m(\u001b[0m\u001b[0mnode_def\u001b[0m\u001b[1;33m,\u001b[0m \u001b[0mop\u001b[0m\u001b[1;33m,\u001b[0m \u001b[0mmessage\u001b[0m\u001b[1;33m)\u001b[0m\u001b[1;33m\u001b[0m\u001b[0m\n\u001b[0m\u001b[0;32m   1341\u001b[0m \u001b[1;33m\u001b[0m\u001b[0m\n\u001b[0;32m   1342\u001b[0m   \u001b[1;32mdef\u001b[0m \u001b[0m_extend_graph\u001b[0m\u001b[1;33m(\u001b[0m\u001b[0mself\u001b[0m\u001b[1;33m)\u001b[0m\u001b[1;33m:\u001b[0m\u001b[1;33m\u001b[0m\u001b[0m\n",
      "\u001b[1;31mFailedPreconditionError\u001b[0m: Attempting to use uninitialized value Variable\n\t [[Node: _retval_Variable_0_0 = _Retval[T=DT_FLOAT, index=0, _device=\"/job:localhost/replica:0/task:0/cpu:0\"](Variable)]]"
     ]
    }
   ],
   "source": [
    "#comente - acontecerá um erro aqui\n",
    "#Executa o tensor definido pela variável weight\n",
    "#Faltou a inicialização da variável weight_out, que está sendo feito no próximo conjunto de código\n",
    "#esse trecho foi comentado, para que não haja mais erro.\n",
    "weight_out = sess.run(weight)\n",
    "print_tf(weight_out)"
   ]
  },
  {
   "cell_type": "code",
   "execution_count": 13,
   "metadata": {
    "collapsed": true
   },
   "outputs": [],
   "source": [
    "#comente - acontecerá um erro aqui\n",
    "#Executa o tensor definido pela variável weight\n",
    "#Faltou a inicialização da variável weight_out, que está sendo feito no próximo conjunto de código\n",
    "#esse trecho foi comentado, para que não haja mais erro.\n",
    "#weight_out = sess.run(weight)\n",
    "#print_tf(weight_out)"
   ]
  },
  {
   "cell_type": "code",
   "execution_count": 14,
   "metadata": {},
   "outputs": [
    {
     "name": "stdout",
     "output_type": "stream",
     "text": [
      "WARNING:tensorflow:From C:\\ProgramData\\Anaconda2\\envs\\rnp_ufg\\lib\\site-packages\\tensorflow\\python\\util\\tf_should_use.py:175: initialize_all_variables (from tensorflow.python.ops.variables) is deprecated and will be removed after 2017-03-02.\n",
      "Instructions for updating:\n",
      "Use `tf.global_variables_initializer` instead.\n"
     ]
    }
   ],
   "source": [
    "#comente\n",
    "#Inicializa todas as variáveis tensors definidas no código, que no caso é só a weight. \n",
    "#Desta forma é possível executar a variável weight.\n",
    "init = tf.initialize_all_variables()\n",
    "sess.run(init)"
   ]
  },
  {
   "cell_type": "code",
   "execution_count": 15,
   "metadata": {},
   "outputs": [
    {
     "name": "stdout",
     "output_type": "stream",
     "text": [
      "TIPO: \n",
      " <class 'numpy.ndarray'>\n",
      "Valor: \n",
      " [[-0.1599749  -0.01970405]\n",
      " [-0.10489478  0.03872173]\n",
      " [-0.20562278  0.15155455]\n",
      " [ 0.06286802  0.09530853]\n",
      " [-0.09910833  0.05111244]]\n",
      "INITIALIZING ALL VARIABLES\n"
     ]
    }
   ],
   "source": [
    "#comente\n",
    "#A sessão é executada associada à variável weight. A funcao print_tf é chamada, imprimindo tipo e valor de weight, depois é apresentado em tela a string \"INITIALIZING ALL VARIABLES\"\n",
    "weight_out = sess.run(weight)\n",
    "print_tf(weight_out)\n",
    "print (\"INITIALIZING ALL VARIABLES\")"
   ]
  },
  {
   "cell_type": "code",
   "execution_count": 17,
   "metadata": {},
   "outputs": [
    {
     "name": "stdout",
     "output_type": "stream",
     "text": [
      "TIPO: \n",
      " <class 'tensorflow.python.framework.ops.Tensor'>\n",
      "Valor: \n",
      " Tensor(\"Placeholder_1:0\", shape=(?, 5), dtype=float32)\n"
     ]
    }
   ],
   "source": [
    "#comente\n",
    "#Cria um ambiente para receber o que está sendo feito; as variáveis e constantes tensors que serão usados dentro do ambiente placeholder criado e o resultado será gerado. O tipo dos tensors recebidos serão do tipo float. O shape do resultado é a matriz [None, 5].\n",
    "x = tf.placeholder(tf.float32, [None, 5])\n",
    "print_tf(x)"
   ]
  },
  {
   "cell_type": "code",
   "execution_count": 18,
   "metadata": {},
   "outputs": [
    {
     "name": "stdout",
     "output_type": "stream",
     "text": [
      "TIPO: \n",
      " <class 'tensorflow.python.framework.ops.Tensor'>\n",
      "Valor: \n",
      " Tensor(\"MatMul:0\", shape=(?, 2), dtype=float32)\n"
     ]
    }
   ],
   "source": [
    "#comente\n",
    "#Funcao do tensorflow de multiplicacao de matrizes, placeholder pelos pesos.\n",
    "oper = tf.matmul(x, weight)\n",
    "print_tf(oper)"
   ]
  },
  {
   "cell_type": "code",
   "execution_count": 19,
   "metadata": {},
   "outputs": [
    {
     "name": "stdout",
     "output_type": "stream",
     "text": [
      "TIPO: \n",
      " <class 'numpy.ndarray'>\n",
      "Valor: \n",
      " [[-0.16172059  0.12191164]]\n"
     ]
    }
   ],
   "source": [
    "#comente\n",
    "#Data recebe um vetor de tamanho 1 x 5 que terá valores aleatórios criados pela funcao random.rand #(biblioteca do numpy); depois a sessão é executada, com a diferença de que é realimentada com os valores aleatórios de data\n",
    "data = np.random.rand(1, 5)\n",
    "oper_out = sess.run(oper, feed_dict={x: data})\n",
    "print_tf(oper_out)"
   ]
  },
  {
   "cell_type": "code",
   "execution_count": 20,
   "metadata": {},
   "outputs": [
    {
     "name": "stdout",
     "output_type": "stream",
     "text": [
      "TIPO: \n",
      " <class 'numpy.ndarray'>\n",
      "Valor: \n",
      " [[-0.22922245  0.08486627]\n",
      " [-0.25312066  0.07974741]]\n"
     ]
    }
   ],
   "source": [
    "#comente\n",
    "#Tudo é feito novamente, com a diferença de a realimentação é com uma matriz de duas dimensões.\n",
    "data = np.random.rand(2, 5)\n",
    "oper_out = sess.run(oper, feed_dict={x: data})\n",
    "print_tf(oper_out)"
   ]
  },
  {
   "cell_type": "code",
   "execution_count": null,
   "metadata": {
    "collapsed": true
   },
   "outputs": [],
   "source": []
  }
 ],
 "metadata": {
  "kernelspec": {
   "display_name": "Python 3",
   "language": "python",
   "name": "python3"
  },
  "language_info": {
   "codemirror_mode": {
    "name": "ipython",
    "version": 3
   },
   "file_extension": ".py",
   "mimetype": "text/x-python",
   "name": "python",
   "nbconvert_exporter": "python",
   "pygments_lexer": "ipython3",
   "version": "3.5.2"
  },
  "widgets": {
   "state": {},
   "version": "1.1.2"
  }
 },
 "nbformat": 4,
 "nbformat_minor": 2
}
